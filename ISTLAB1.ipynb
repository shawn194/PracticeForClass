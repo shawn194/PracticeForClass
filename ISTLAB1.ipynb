{
  "nbformat": 4,
  "nbformat_minor": 0,
  "metadata": {
    "colab": {
      "name": "ISTLAB1.ipynb",
      "provenance": [],
      "collapsed_sections": [],
      "authorship_tag": "ABX9TyOAbQkOWHiz9ySulU7c7TGp",
      "include_colab_link": true
    },
    "kernelspec": {
      "name": "python3",
      "display_name": "Python 3"
    }
  },
  "cells": [
    {
      "cell_type": "markdown",
      "metadata": {
        "id": "view-in-github",
        "colab_type": "text"
      },
      "source": [
        "<a href=\"https://colab.research.google.com/github/shawn194/PracticeForClass/blob/master/ISTLAB1.ipynb\" target=\"_parent\"><img src=\"https://colab.research.google.com/assets/colab-badge.svg\" alt=\"Open In Colab\"/></a>"
      ]
    },
    {
      "cell_type": "markdown",
      "metadata": {
        "id": "xdIF3rBB2gx6",
        "colab_type": "text"
      },
      "source": [
        "##Do you like using Jupyter Notebooks?"
      ]
    },
    {
      "cell_type": "markdown",
      "metadata": {
        "id": "_EmLP3vF2kfC",
        "colab_type": "text"
      },
      "source": [
        "I like using Jupyter Notebooks because it is easy to use, and I like how I can split between text cells and code cells. Also, I like how clean the interface looks."
      ]
    },
    {
      "cell_type": "markdown",
      "metadata": {
        "id": "I8ESWo5v2z7Z",
        "colab_type": "text"
      },
      "source": [
        "##What do you want to learn more about in Jupyter Notebooks?"
      ]
    },
    {
      "cell_type": "markdown",
      "metadata": {
        "id": "1NEKCCkF23Vq",
        "colab_type": "text"
      },
      "source": [
        "I want to learn more about how Jupyter Notebooks can interact with and manipulate databases. I also want to learn and see how Jupyter Notebooks is different from other Python interpreters. "
      ]
    },
    {
      "cell_type": "markdown",
      "metadata": {
        "id": "4HBfrSMC3Kwb",
        "colab_type": "text"
      },
      "source": [
        "![Green Bank Observatory](https://raw.githubusercontent.com/shawn194/PracticeForClass/master/Images/Image%20from%20iOS.jpg)"
      ]
    }
  ]
}
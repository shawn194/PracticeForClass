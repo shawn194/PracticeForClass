{
  "nbformat": 4,
  "nbformat_minor": 0,
  "metadata": {
    "colab": {
      "name": "PetShop.ipynb",
      "provenance": [],
      "authorship_tag": "ABX9TyOpeuAghpln5A0fhAj7CsfB",
      "include_colab_link": true
    },
    "kernelspec": {
      "name": "python3",
      "display_name": "Python 3"
    }
  },
  "cells": [
    {
      "cell_type": "markdown",
      "metadata": {
        "id": "view-in-github",
        "colab_type": "text"
      },
      "source": [
        "<a href=\"https://colab.research.google.com/github/shawn194/PracticeForClass/blob/master/PetShop.ipynb\" target=\"_parent\"><img src=\"https://colab.research.google.com/assets/colab-badge.svg\" alt=\"Open In Colab\"/></a>"
      ]
    },
    {
      "cell_type": "markdown",
      "metadata": {
        "id": "26zFh99E1OsY"
      },
      "source": [
        "###Pet Shop ER Diagram"
      ]
    },
    {
      "cell_type": "markdown",
      "metadata": {
        "id": "v0b90hUN1Xb1"
      },
      "source": [
        "![ER Diagram](https://raw.githubusercontent.com/shawn194/PracticeForClass/master/Images/PetShopER.png)"
      ]
    },
    {
      "cell_type": "markdown",
      "metadata": {
        "id": "rfGLTcBG6T00"
      },
      "source": [
        "###Justification"
      ]
    },
    {
      "cell_type": "markdown",
      "metadata": {
        "id": "f9kMZJHE19WK"
      },
      "source": [
        "Pets are kept in closures and are fed food. The entity **Pet** has a foreign key *Enclosure_Number*, which is the primary key of the **Enclosure** entity. Pets can be kept in one and only one enclosure, but an enclosure can hold 0 up to 100 pets. The primary key of Pets is Pet_ID, which relates to the foreign key *Food_Type* in the **Food** entity. The Pet_ID determines what type of pet it is (cat, dog, etc), and the type of pet determines the food type (cat food, dog food, etc). Here, I am assuming that the tuples in food entity tracks bags of food, so one pet can be fed 0 bags of food up to 100 bags of food in a year. One bag of food can feed 0 up to 50 different pets. \n",
        "The Pets entity has also the foreign key *Pet_Transaction_#*, which is the primary key of the **Pet_Transaction** entity. This entity stores customer transactions for buying/adopting pets. Similarly, the **Food_Transaction** entity is for when a customer decides to buy pet food. A pet can be involved in 0 up to 1 transaction, but a transaction can involve 1 up to 50 pets. (50 pets can be bought at a time). A bag of food can be involved in 0 up to 1 transaction, but a transaction can involve 1 up to 50 bags of food. \n",
        "Finally, there is the **Customer** entity. It contains the primary key Customer_ID, which is also the foreign key of both the Pet_Transaction and Food_Transaction entities. A single transaction can be paid for by one and only one customer, but a customer can pay for 1 up to 100 transactions in a given year. There is also a loyalty program for customers, denoted by the attributes Pet_Loyalty_Level and Food_Loyalty_Level. Example values can be gold, silver, or bronze, depending on the subscription level of the customer. As a result, the Pet/Food_Transaction entities have a discount amount correlating to the loyalty level of the customer."
      ]
    },
    {
      "cell_type": "code",
      "metadata": {
        "id": "XHC_p6ej5gaK"
      },
      "source": [
        ""
      ],
      "execution_count": null,
      "outputs": []
    }
  ]
}